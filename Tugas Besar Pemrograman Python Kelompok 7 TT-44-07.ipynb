{
 "cells": [
  {
   "cell_type": "markdown",
   "id": "094c0ef7",
   "metadata": {},
   "source": [
    "TUGAS BESAR PEMROGRAMAN PYTHON KELOMPOK 7\n",
    "========\n",
    "## Akhmad Sujatmiko 1101201457\n",
    "## Addristy Gita Pramesti 1101200472\n",
    "## Ima Dewi Arofani 1101204375\n",
    "## Zuba saidilla puspa 1101204210"
   ]
  },
  {
   "cell_type": "code",
   "execution_count": 23,
   "id": "dc0ff8ea",
   "metadata": {},
   "outputs": [],
   "source": [
    "import csv\n",
    "\n",
    "def datafix():\n",
    "    csv_coloums = ['NIM','TUGAS1','TUGAS2','QUIZ1','QUIZ2','UTS','UAS']\n",
    "    dict_data = [\n",
    "    {'NIM': 1101110061, 'TUGAS1': 50, 'TUGAS2': 75, 'QUIZ1': 50, 'QUIZ2': 78, 'UTS': 79, 'UAS': 40},\n",
    "    {'NIM': 1101110062, 'TUGAS1': 50, 'TUGAS2': 80, 'QUIZ1': 50, 'QUIZ2': 50, 'UTS': 65, 'UAS': 26},\n",
    "    {'NIM': 1101110063, 'TUGAS1': 60, 'TUGAS2': 75, 'QUIZ1': 77, 'QUIZ2': 79, 'UTS': 50, 'UAS': 51},\n",
    "    {'NIM': 1101110064, 'TUGAS1': 52, 'TUGAS2': 85, 'QUIZ1': 50, 'QUIZ2': 80, 'UTS': 80, 'UAS': 30},\n",
    "    {'NIM': 1101110065, 'TUGAS1': 70, 'TUGAS2': 85, 'QUIZ1': 50, 'QUIZ2': 80, 'UTS': 80, 'UAS': 88},\n",
    "    {'NIM': 1101110066, 'TUGAS1': 75, 'TUGAS2': 80, 'QUIZ1': 50, 'QUIZ2': 95, 'UTS': 50, 'UAS': 67},\n",
    "    {'NIM': 1101110067, 'TUGAS1': 72, 'TUGAS2': 80, 'QUIZ1': 70, 'QUIZ2': 90, 'UTS': 85, 'UAS': 86},\n",
    "    {'NIM': 1101110068, 'TUGAS1': 95, 'TUGAS2': 80, 'QUIZ1': 50, 'QUIZ2': 95, 'UTS': 50, 'UAS': 85},\n",
    "    {'NIM': 1101110069, 'TUGAS1': 76, 'TUGAS2': 95, 'QUIZ1': 90, 'QUIZ2': 100, 'UTS': 95, 'UAS': 79},\n",
    "    {'NIM': 1101110070, 'TUGAS1': 94, 'TUGAS2': 80, 'QUIZ1': 90, 'QUIZ2': 100, 'UTS': 100, 'UAS': 66},\n",
    "    {'NIM': 1101110071, 'TUGAS1': 92, 'TUGAS2': 75, 'QUIZ1': 60, 'QUIZ2': 92, 'UTS': 95, 'UAS': 79},\n",
    "    {'NIM': 1101110072, 'TUGAS1': 59, 'TUGAS2': 85, 'QUIZ1': 60, 'QUIZ2': 80, 'UTS': 80, 'UAS': 42},\n",
    "    {'NIM': 1101110073, 'TUGAS1': 50, 'TUGAS2': 80, 'QUIZ1': 70, 'QUIZ2': 90, 'UTS': 85, 'UAS': 61},\n",
    "    {'NIM': 1101110074, 'TUGAS1': 60, 'TUGAS2': 85, 'QUIZ1': 60, 'QUIZ2': 82, 'UTS': 81, 'UAS': 64},\n",
    "    {'NIM': 1101110075, 'TUGAS1': 98, 'TUGAS2': 95, 'QUIZ1': 80, 'QUIZ2': 100, 'UTS': 100, 'UAS': 100},\n",
    "    {'NIM': 1101110076, 'TUGAS1': 50, 'TUGAS2': 50, 'QUIZ1': 70, 'QUIZ2': 70, 'UTS': 85, 'UAS': 70},\n",
    "    {'NIM': 1101110077, 'TUGAS1': 100, 'TUGAS2': 100, 'QUIZ1': 90, 'QUIZ2': 90, 'UTS': 95, 'UAS': 96},\n",
    "    {'NIM': 1101110078, 'TUGAS1': 60, 'TUGAS2': 90, 'QUIZ1': 60, 'QUIZ2': 80, 'UTS': 80, 'UAS': 32},\n",
    "    {'NIM': 1101110079, 'TUGAS1': 66, 'TUGAS2': 100, 'QUIZ1': 90, 'QUIZ2': 90, 'UTS': 95, 'UAS': 100},\n",
    "    {'NIM': 1101110080, 'TUGAS1': 50, 'TUGAS2': 80, 'QUIZ1': 60, 'QUIZ2': 80, 'UTS': 80, 'UAS': 91},\n",
    "    {'NIM': 1101110081, 'TUGAS1': 73, 'TUGAS2': 95, 'QUIZ1': 90, 'QUIZ2': 90, 'UTS': 95, 'UAS': 88},\n",
    "    {'NIM': 1101110082, 'TUGAS1': 100, 'TUGAS2': 95, 'QUIZ1': 90, 'QUIZ2': 98, 'UTS': 99, 'UAS': 100},\n",
    "    {'NIM': 1101110083, 'TUGAS1': 80, 'TUGAS2': 95, 'QUIZ1': 90, 'QUIZ2': 90, 'UTS': 95, 'UAS': 100},\n",
    "    {'NIM': 1101110084, 'TUGAS1': 50, 'TUGAS2': 51, 'QUIZ1': 50, 'QUIZ2': 51, 'UTS': 51, 'UAS': 51},\n",
    "    {'NIM': 1101110085, 'TUGAS1': 62, 'TUGAS2': 95, 'QUIZ1': 90, 'QUIZ2': 90, 'UTS': 95, 'UAS': 58},\n",
    "    {'NIM': 1101110086, 'TUGAS1': 80, 'TUGAS2': 50, 'QUIZ1': 90, 'QUIZ2': 90, 'UTS': 95, 'UAS': 92},\n",
    "    {'NIM': 1101110087, 'TUGAS1': 60, 'TUGAS2': 95, 'QUIZ1': 70, 'QUIZ2': 70, 'UTS': 85, 'UAS': 64},\n",
    "    {'NIM': 1101110088, 'TUGAS1': 64, 'TUGAS2': 80, 'QUIZ1': 80, 'QUIZ2': 80, 'UTS': 90, 'UAS': 54},\n",
    "    {'NIM': 1101110089, 'TUGAS1': 85, 'TUGAS2': 85, 'QUIZ1': 90, 'QUIZ2': 95, 'UTS': 50, 'UAS': 100},\n",
    "    {'NIM': 1101110090, 'TUGAS1': 50, 'TUGAS2': 90, 'QUIZ1': 50, 'QUIZ2': 60, 'UTS': 70, 'UAS': 15},\n",
    "    {'NIM': 1101110091, 'TUGAS1': 60, 'TUGAS2': 80, 'QUIZ1': 80, 'QUIZ2': 80, 'UTS': 80, 'UAS': 72},\n",
    "    {'NIM': 1101110092, 'TUGAS1': 67, 'TUGAS2': 95, 'QUIZ1': 70, 'QUIZ2': 90, 'UTS': 85, 'UAS': 92},\n",
    "    {'NIM': 1101110093, 'TUGAS1': 60, 'TUGAS2': 90, 'QUIZ1': 60, 'QUIZ2': 84, 'UTS': 82, 'UAS': 71},\n",
    "    {'NIM': 1101110094, 'TUGAS1': 52, 'TUGAS2': 70, 'QUIZ1': 50, 'QUIZ2': 78, 'UTS': 79, 'UAS': 25},\n",
    "    {'NIM': 1101110095, 'TUGAS1': 53, 'TUGAS2': 100, 'QUIZ1': 90, 'QUIZ2': 90, 'UTS': 95, 'UAS': 74},\n",
    "    {'NIM': 1101110096, 'TUGAS1': 50, 'TUGAS2': 85, 'QUIZ1': 60, 'QUIZ2': 80, 'UTS': 80, 'UAS': 42},\n",
    "    {'NIM': 1101110097, 'TUGAS1': 72, 'TUGAS2': 85, 'QUIZ1': 50, 'QUIZ2': 91, 'UTS': 50, 'UAS': 73},\n",
    "    {'NIM': 1101110098, 'TUGAS1': 50, 'TUGAS2': 50, 'QUIZ1': 70, 'QUIZ2': 90, 'UTS': 85, 'UAS': 37},\n",
    "    {'NIM': 1101110099, 'TUGAS1': 88, 'TUGAS2': 90, 'QUIZ1': 80, 'QUIZ2': 88, 'UTS': 94, 'UAS': 56},\n",
    "    {'NIM': 1101110100, 'TUGAS1': 85, 'TUGAS2': 85, 'QUIZ1': 90, 'QUIZ2': 95, 'UTS': 50, 'UAS': 100},\n",
    "    {'NIM': 1101110101, 'TUGAS1': 50, 'TUGAS2': 90, 'QUIZ1': 50, 'QUIZ2': 60, 'UTS': 70, 'UAS': 15},\n",
    "    ]\n",
    "    \n",
    "    \n",
    "    return dict_data"
   ]
  },
  {
   "cell_type": "markdown",
   "id": "bac409a9",
   "metadata": {},
   "source": [
    "### Membuat file dictionary berdasarkan dataset7\n",
    "> Pada cell yang kami isi nilai 50"
   ]
  },
  {
   "cell_type": "code",
   "execution_count": 2,
   "id": "def1a9e0",
   "metadata": {},
   "outputs": [],
   "source": [
    "def ReadCSVFile(filename):\n",
    "    dataMahasiswa = []\n",
    "    \n",
    "    with open(filename) as csv_file:\n",
    "        csv_reader = csv.DictReader(csv_file)\n",
    "        for row in csv_reader:\n",
    "            dataMahasiswa.append(row)\n",
    "            \n",
    "    return dataMahasiswa"
   ]
  },
  {
   "cell_type": "markdown",
   "id": "1eb586e2",
   "metadata": {},
   "source": [
    "### Membaca file csv \n",
    "> Membaca file csv yang telah terupdate"
   ]
  },
  {
   "cell_type": "code",
   "execution_count": 4,
   "id": "d1d5b677",
   "metadata": {},
   "outputs": [],
   "source": [
    "def DictionaryNilaiSemuaMahasiswa(dataMahasiswa):\n",
    "    dictDataNilaiMahasiswa={}\n",
    "    dataNIM=[]\n",
    "    dataTugas1=[]\n",
    "    dataTugas2=[]\n",
    "    dataQuiz1=[]\n",
    "    dataQuiz2=[]\n",
    "    dataUTS=[]\n",
    "    dataUAS=[]\n",
    "    \n",
    "    for data in dataMahasiswa:\n",
    "        dataNIM.append(data['NIM'])\n",
    "        dataTugas1.append(data['TUGAS1'])\n",
    "        dataTugas2.append(data['TUGAS2'])\n",
    "        dataQuiz1.append(data['QUIZ1'])\n",
    "        dataQuiz2.append(data['QUIZ2'])\n",
    "        dataUTS.append(data['UTS'])\n",
    "        dataUAS.append(data['UAS'])\n",
    "    \n",
    "    dictDataNilaiMahasiswa['NIM'] = dataNIM\n",
    "    dictDataNilaiMahasiswa['TUGAS1'] = dataTugas1\n",
    "    dictDataNilaiMahasiswa['TUGAS2'] = dataTugas2\n",
    "    dictDataNilaiMahasiswa['QUIZ1'] = dataQuiz1\n",
    "    dictDataNilaiMahasiswa['QUIZ2'] = dataQuiz2\n",
    "    dictDataNilaiMahasiswa['UTS'] = dataUTS\n",
    "    dictDataNilaiMahasiswa['UAS'] = dataUAS\n",
    "    \n",
    "    return dictDataNilaiMahasiswa"
   ]
  },
  {
   "cell_type": "markdown",
   "id": "d3273837",
   "metadata": {},
   "source": [
    "### Membuat dictionary berdasarkan header\n",
    "> Menambahkan, mengelompokkan serta menggabungkan data yang telah di pre-processing"
   ]
  },
  {
   "cell_type": "code",
   "execution_count": 20,
   "id": "f865eb6e",
   "metadata": {},
   "outputs": [],
   "source": [
    "def MeanValue(dictionaryNilaiSemuaMahasiswa, key):\n",
    "    convertToInt  = [int(value) for value in dictionaryNilaiSemuaMahasiswa[key]]\n",
    "    meanValue = sum(convertToInt)/len(convertToInt)\n",
    "    \n",
    "    return (\"%.2f\" % meanValue)\n",
    "\n",
    "def MaxValue(dictionaryNilaiSemuaMahasiswa, key): \n",
    "    convertToInt  = [int(value) for value in dictionaryNilaiSemuaMahasiswa[key]]\n",
    "    maxValue = max(convertToInt)\n",
    "    \n",
    "    return maxValue\n",
    "\n",
    "def MinValue(dictionaryNilaiSemuaMahasiswa, key): \n",
    "    convertToInt  = [int(value) for value in dictionaryNilaiSemuaMahasiswa[key]]\n",
    "    minValue = min(convertToInt)\n",
    "    \n",
    "    return minValue\n",
    "\n",
    "def ModValue(dictionaryNilaiSemuaMahasiswa, key): \n",
    "    import statistics\n",
    "    convertToInt  = [int(value) for value in dictionaryNilaiSemuaMahasiswa[key]]\n",
    "    data = []\n",
    "    for bilangan in convertToInt :\n",
    "        data.append(int(bilangan))\n",
    "    modusValue = statistics.mode(data)\n",
    "    \n",
    "    return modusValue\n",
    "\n",
    "def MedValue(dictionaryNilaiSemuaMahasiswa, key): \n",
    "    convertToInt  = [int(value) for value in dictionaryNilaiSemuaMahasiswa[key]]\n",
    "    \n",
    "    n = len(convertToInt)\n",
    "    convertToInt.sort()\n",
    "    \n",
    "    if n % 2 == 0:\n",
    "        median1 = convertToInt[n//2]\n",
    "        median2 = convertToInt[n//2 - 1]\n",
    "        medianValue = (median1 + median2)/2\n",
    "    else:\n",
    "        medianValue = convertToInt[n//2]\n",
    "    \n",
    "    return medianValue\n",
    "    \n",
    "def VarValue(dictionaryNilaiSemuaMahasiswa, key): \n",
    "    convertToInt  = [int(value) for value in dictionaryNilaiSemuaMahasiswa[key]]\n",
    "    meanValue = sum(convertToInt)/len(convertToInt)\n",
    "    list_varian = []\n",
    "    for bilangan in convertToInt :\n",
    "        list_varian.append((bilangan - meanValue) ** 2)\n",
    "    varValue = sum(list_varian)/(len(convertToInt)-1)\n",
    "    \n",
    "    return (\"%.2f\" % varValue)\n",
    "    \n",
    "def Stddev(dictionaryNilaiSemuaMahasiswa, key):\n",
    "    import statistics\n",
    "    convertToInt  = [int(value) for value in dictionaryNilaiSemuaMahasiswa[key]]\n",
    "    standardeviasiValue = statistics.stdev(convertToInt)\n",
    "    \n",
    "    return  (\"%.2f\" % standardeviasiValue)\n",
    "    \n",
    "def Q1Value(dictionaryNilaiSemuaMahasiswa, key): \n",
    "    convertToInt  = [int(value) for value in dictionaryNilaiSemuaMahasiswa[key]]\n",
    "    n = len(convertToInt)\n",
    "    q1Value = convertToInt[1*(n+1)//4]\n",
    "    \n",
    "    return  q1Value\n",
    "\n",
    "def Q3Value(dictionaryNilaiSemuaMahasiswa, key): \n",
    "    convertToInt  = [int(value) for value in dictionaryNilaiSemuaMahasiswa[key]]\n",
    "    n = len(convertToInt)\n",
    "    q3Value = convertToInt[(3*(n+1))//4]\n",
    "    \n",
    "    return  q3Value\n",
    "\n",
    "    \n",
    "def DictionaryNilaiPerMahasiswa(dataMahasiswa): \n",
    "    dictNilaiPerMahasiswa ={}\n",
    "    \n",
    "    for data in dataMahasiswa:\n",
    "        dictNilaiPerMahasiswa[data['NIM']] = data['TUGAS1'], data['TUGAS2'], data['QUIZ1'], data['QUIZ2'], data['UTS'], data['UAS']\n",
    "   \n",
    "    return dictNilaiPerMahasiswa\n",
    "\n",
    "\n",
    "def AkumulasiNilai(dictionaryNilaiPerMahasiswa, nim):\n",
    "    \n",
    "    convertToInt  = [int(value) for value in dictionaryNilaiPerMahasiswa[nim]]\n",
    "    rataRataTugas = sum(convertToInt[0:2])/len(convertToInt[0:2])\n",
    "    rataRataQuiz  = sum(convertToInt[2:4])/len(convertToInt[2:4])\n",
    "    akumulasiNilai = ((0.15*rataRataTugas)+(0.15*rataRataQuiz)+(0.35*convertToInt[4])+(0.35*convertToInt[5]))\n",
    "    return (\"%.2f\" % akumulasiNilai)"
   ]
  },
  {
   "cell_type": "markdown",
   "id": "2e40306d",
   "metadata": {},
   "source": [
    "### Fungsi untuk mencari nilai\n",
    "> Fungsi-fungsi di atas berisi rumus-rumus untuk mencari nilai mean, max, min, modus, median, dll.\n"
   ]
  },
  {
   "cell_type": "code",
   "execution_count": 21,
   "id": "64f0daa4",
   "metadata": {},
   "outputs": [],
   "source": [
    "datamean = [] \n",
    "datamax = []\n",
    "datamin = []\n",
    "datamed = []\n",
    "dataq1 = [] \n",
    "dataq3 = []\n",
    "datavarian = []\n",
    "datastandardeviasi = []\n",
    "datamodus = []\n",
    "\n",
    "dataMahasiswa = datafix()\n",
    "dictionaryNilaiMahasiswa = DictionaryNilaiSemuaMahasiswa(dataMahasiswa)\n",
    "\n",
    "for key in dictionaryNilaiMahasiswa:\n",
    "    if key == 'NIM':\n",
    "        meanValue= 'Mean'\n",
    "        maxValue = 'Nilai Maksimum'\n",
    "        minValue = 'Nilai Minimum'\n",
    "        modusValue = 'Modus'\n",
    "        medianValue = 'Median'\n",
    "        q1Value = 'Nilai Q1'\n",
    "        q3Value = 'Nilai Q3'\n",
    "        varValue = 'Varian'\n",
    "        standardeviasiValue = 'Standar Deviasi'\n",
    "    \n",
    "    else:\n",
    "        meanValue = MeanValue(dictionaryNilaiMahasiswa, key)\n",
    "        maxValue = MaxValue(dictionaryNilaiMahasiswa, key)\n",
    "        minValue = MinValue(dictionaryNilaiMahasiswa, key)\n",
    "        modusValue = ModValue(dictionaryNilaiMahasiswa, key)\n",
    "        medianValue = MedValue(dictionaryNilaiMahasiswa, key)\n",
    "        q1Value = Q1Value(dictionaryNilaiMahasiswa, key)\n",
    "        q3Value = Q3Value(dictionaryNilaiMahasiswa, key)\n",
    "        varValue = VarValue(dictionaryNilaiMahasiswa, key)\n",
    "        standardeviasiValue = Stddev(dictionaryNilaiMahasiswa, key)\n",
    "        \n",
    "    datamean.append(meanValue)\n",
    "    datamax.append(maxValue)\n",
    "    datamin.append(minValue)\n",
    "    datamodus.append(modusValue)\n",
    "    datamed.append(medianValue)\n",
    "    dataq1.append(q1Value)\n",
    "    dataq3.append(q3Value)\n",
    "    datavarian.append(varValue)\n",
    "    datastandardeviasi.append(standardeviasiValue)\n",
    "    \n",
    "    \n",
    "\n",
    "dictionaryNilaiPerMahasiswa = DictionaryNilaiPerMahasiswa(dataMahasiswa)\n",
    "\n",
    "dictnilai = {}\n",
    "for nim in dictionaryNilaiMahasiswa['NIM']:\n",
    "    akumulasiNilaiPerMahasiswa = AkumulasiNilai(dictionaryNilaiPerMahasiswa, nim)\n",
    "    listdata = list(dictionaryNilaiPerMahasiswa[nim])\n",
    "    listdata.append(akumulasiNilaiPerMahasiswa)\n",
    "    dictnilai[nim] = listdata"
   ]
  },
  {
   "cell_type": "markdown",
   "id": "79232291",
   "metadata": {},
   "source": [
    "### Membuat daftar baru untuk menampung nilai-nilai\n",
    "> Kodingan di atas agar rumus bisa dibaca dan ditulis ke dalam file csv yang baru"
   ]
  },
  {
   "cell_type": "code",
   "execution_count": 22,
   "id": "d32f0413",
   "metadata": {},
   "outputs": [],
   "source": [
    "with open('dataset7_fixed.csv', mode='w') as csv_file:\n",
    "    fieldnames = ['NIM', 'TUGAS1', 'TUGAS2', 'QUIZ1', 'QUIZ2', 'UTS', 'UAS', 'TOTAL']\n",
    "    \n",
    "    writer = csv.DictWriter(csv_file, fieldnames=fieldnames)\n",
    "    \n",
    "    writer.writeheader()\n",
    "\n",
    "    for nim in dictionaryNilaiMahasiswa['NIM']:\n",
    "         writer.writerow({'NIM':nim,'TUGAS1':dictnilai[nim][0],'TUGAS2':dictnilai[nim][1],'QUIZ1':dictnilai[nim][2],'QUIZ2':dictnilai[nim][3],'UTS':dictnilai[nim][4],'UAS':dictnilai[nim][5],'TOTAL':dictnilai[nim][6]})\n",
    "    writer.writerow({'NIM':datamean[0],'TUGAS1':datamean[1],'TUGAS2':datamean[2],'QUIZ1':datamean[3],'QUIZ2':datamean[4],'UTS':datamean[5],'UAS':datamean[6]})\n",
    "    writer.writerow({'NIM':datamax[0],'TUGAS1':datamax[1],'TUGAS2':datamax[2],'QUIZ1':datamax[3],'QUIZ2':datamax[4],'UTS':datamax[5],'UAS':datamax[6]})\n",
    "    writer.writerow({'NIM':datamin[0],'TUGAS1':datamin[1],'TUGAS2':datamin[2],'QUIZ1':datamin[3],'QUIZ2':datamin[4],'UTS':datamin[5],'UAS':datamin[6]})\n",
    "    writer.writerow({'NIM':datamodus[0],'TUGAS1':datamodus[1],'TUGAS2':datamodus[2],'QUIZ1':datamodus[3],'QUIZ2':datamodus[4],'UTS':datamodus[5],'UAS':datamodus[6]})\n",
    "    writer.writerow({'NIM':datamed[0],'TUGAS1':datamed[1],'TUGAS2':datamed[2],'QUIZ1':datamed[3],'QUIZ2':datamed[4],'UTS':datamed[5],'UAS':datamed[6]})\n",
    "    writer.writerow({'NIM':dataq1[0],'TUGAS1':dataq1[1],'TUGAS2':dataq1[2],'QUIZ1':dataq1[3],'QUIZ2':dataq1[4],'UTS':dataq1[5],'UAS':dataq1[6]})\n",
    "    writer.writerow({'NIM':dataq3[0],'TUGAS1':dataq3[1],'TUGAS2':dataq3[2],'QUIZ1':dataq3[3],'QUIZ2':dataq3[4],'UTS':dataq3[5],'UAS':dataq3[6]})\n",
    "    writer.writerow({'NIM':datavarian[0],'TUGAS1':datavarian[1],'TUGAS2':datavarian[2],'QUIZ1':datavarian[3],'QUIZ2':datavarian[4],'UTS':datavarian[5],'UAS':datavarian[6]})\n",
    "    writer.writerow({'NIM':datastandardeviasi[0],'TUGAS1':datastandardeviasi[1],'TUGAS2':datastandardeviasi[2],'QUIZ1':datastandardeviasi[3],'QUIZ2':datastandardeviasi[4],'UTS':datastandardeviasi[5],'UAS':datastandardeviasi[6]})"
   ]
  },
  {
   "cell_type": "markdown",
   "id": "3bcbd775",
   "metadata": {},
   "source": [
    "### Membuat data set baru\n",
    "> Membuat data set baru dan menulis nilai-nilai yang telah didapat"
   ]
  },
  {
   "cell_type": "markdown",
   "id": "a874f4f7",
   "metadata": {},
   "source": [
    "### Pertanyaan\n",
    "#### 1. NIM mana yang mendapatkan UTS tertinggi?\n",
    "1101110070, 1101110075"
   ]
  },
  {
   "cell_type": "markdown",
   "id": "d8ed9b6b",
   "metadata": {},
   "source": [
    "#### 2. NIM mana yang mendapatkan nilai UAS terendah?\n",
    "1101110101"
   ]
  },
  {
   "cell_type": "markdown",
   "id": "1128b444",
   "metadata": {},
   "source": [
    "#### 3. NIM mana sajakah yang mendapatkan nilai quiz-1 di atas rata-rata?\n",
    "1101110100, 1101110099, 1101110095, 1101110091, 1101110089, 1101110088, 1101110086, 1101110085, 1101110081, 1101110082, 1101110083, 1101110077, 1101110079, 1101110075, 1101110070, 1101110070"
   ]
  },
  {
   "cell_type": "markdown",
   "id": "7688ba60",
   "metadata": {},
   "source": [
    "#### 4. NIM mana sajakah yang mendapatkan nilai quiz-2 di bawah median?\n",
    "1101110061, 1101110062, 1101110063, 1101110064, 1101110065, 1101110072, 1101110074, 1101110076, 1101110078, 1101110080, 1101110084, 1101110087, 1101110088, 1101110090, 1101110091, 1101110093, 1101110094, 1101110096, 1101110099 1101110101"
   ]
  },
  {
   "cell_type": "markdown",
   "id": "5b7b4060",
   "metadata": {},
   "source": [
    "#### 5. NIM mana sajakah yang mendapatkan nilai tugas-1 di bawah median?\n",
    "1101110061, 1101110062, 1101110063, 1101110064, 1101110072, 1101110073, 1101110074, 1101110076, 1101110078, 1101110080, 1101110084, 1101110087, 1101110090, 1101110091, 1101110093, 1101110094, 1101110095, 1101110096, 1101110098, 1101110101"
   ]
  },
  {
   "cell_type": "markdown",
   "id": "d465a5a4",
   "metadata": {},
   "source": [
    "#### 6. NIM mana sajakah yang mendapatkan nilai tugas-2 di atas rata-rata?\n",
    "1101110064, 1101110085, 1101110065,\t1101110087, 1101110069, 1101110089, 1101110072, 1101110090, 1101110074,\t1101110092, 1101110075,\t1101110093, 1101110077,\t1101110095, 1101110078,\t1101110096, 1101110079,\t1101110097, 1101110081,\t1101110099, 1101110082,\t1101110100, 1101110083,\t1101110101,"
   ]
  },
  {
   "cell_type": "markdown",
   "id": "3385dab3",
   "metadata": {},
   "source": [
    "#### 7. NIM mana yang nilai akhirnya menjadi pencilan bawah/atas?\n",
    "Tidak ada NIM yang nilai akhirnya menjadi pencilan bawah ataupun atas"
   ]
  },
  {
   "cell_type": "markdown",
   "id": "f1d1310b",
   "metadata": {},
   "source": [
    "#### 8. NIM mana sajakah yang mendapatkan nilai akhir kurang dari mean?\n",
    "1101110061, 1101110062, 1101110063, 1101110064, 1101110066, 1101110068, 1101110072, 1101110078, 1101110084, 1101110089, 1101110090, 1101110094, 1101110096, 1101110097, 1101110098, 1101110100, 1101110101"
   ]
  },
  {
   "cell_type": "code",
   "execution_count": null,
   "id": "0c57b1f6",
   "metadata": {},
   "outputs": [],
   "source": []
  }
 ],
 "metadata": {
  "kernelspec": {
   "display_name": "Python 3",
   "language": "python",
   "name": "python3"
  },
  "language_info": {
   "codemirror_mode": {
    "name": "ipython",
    "version": 3
   },
   "file_extension": ".py",
   "mimetype": "text/x-python",
   "name": "python",
   "nbconvert_exporter": "python",
   "pygments_lexer": "ipython3",
   "version": "3.8.8"
  }
 },
 "nbformat": 4,
 "nbformat_minor": 5
}
